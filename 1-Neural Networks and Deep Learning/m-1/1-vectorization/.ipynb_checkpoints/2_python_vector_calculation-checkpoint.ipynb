{
 "cells": [
  {
   "cell_type": "code",
   "execution_count": 3,
   "id": "5b9d79e7-93dc-4c83-9c8c-c99b5cc64e56",
   "metadata": {},
   "outputs": [],
   "source": [
    "import numpy as np"
   ]
  },
  {
   "cell_type": "code",
   "execution_count": 4,
   "id": "075ff9c9-9577-401d-b046-3dcf05efa2de",
   "metadata": {},
   "outputs": [],
   "source": [
    "A = np.array([[56.0,  0.0,  4.4,  68.0],\n",
    "              [ 1.2, 104.0, 52.0,   8.0],\n",
    "              [ 1.8, 135.0, 99.0,   0.9]])"
   ]
  },
  {
   "cell_type": "code",
   "execution_count": 5,
   "id": "d39b5c23-d115-4d3e-8c31-1d19bcecd5cd",
   "metadata": {},
   "outputs": [],
   "source": [
    "sum=A.sum(axis=0)"
   ]
  },
  {
   "cell_type": "code",
   "execution_count": 6,
   "id": "150b581d-7542-481f-b2d3-9b55090793eb",
   "metadata": {},
   "outputs": [
    {
     "data": {
      "text/plain": [
       "array([ 59. , 239. , 155.4,  76.9])"
      ]
     },
     "execution_count": 6,
     "metadata": {},
     "output_type": "execute_result"
    }
   ],
   "source": [
    "sum"
   ]
  },
  {
   "cell_type": "code",
   "execution_count": 7,
   "id": "e2b145fe-02dd-4eb2-9282-0c5e5bbbfe47",
   "metadata": {},
   "outputs": [
    {
     "data": {
      "text/plain": [
       "(4,)"
      ]
     },
     "execution_count": 7,
     "metadata": {},
     "output_type": "execute_result"
    }
   ],
   "source": [
    "sum.shape"
   ]
  },
  {
   "cell_type": "code",
   "execution_count": 8,
   "id": "84999516-4025-4d0a-863e-40fc1078b37c",
   "metadata": {},
   "outputs": [
    {
     "data": {
      "text/plain": [
       "array([[ 59. , 239. , 155.4,  76.9]])"
      ]
     },
     "execution_count": 8,
     "metadata": {},
     "output_type": "execute_result"
    }
   ],
   "source": [
    "sum.reshape(1,4)"
   ]
  },
  {
   "cell_type": "code",
   "execution_count": 9,
   "id": "34190d00-ec1a-4478-9041-575f8eea0480",
   "metadata": {},
   "outputs": [
    {
     "data": {
      "text/plain": [
       "array([[0.94915254, 0.        , 0.02831403, 0.88426528],\n",
       "       [0.02033898, 0.43514644, 0.33462033, 0.10403121],\n",
       "       [0.03050847, 0.56485356, 0.63706564, 0.01170351]])"
      ]
     },
     "execution_count": 9,
     "metadata": {},
     "output_type": "execute_result"
    }
   ],
   "source": [
    "A/sum"
   ]
  },
  {
   "cell_type": "code",
   "execution_count": 10,
   "id": "7cd2605e-9ec5-46e3-9304-57d0bce51d0d",
   "metadata": {},
   "outputs": [
    {
     "data": {
      "text/plain": [
       "array([[94.91525424,  0.        ,  2.83140283, 88.42652796],\n",
       "       [ 2.03389831, 43.51464435, 33.46203346, 10.40312094],\n",
       "       [ 3.05084746, 56.48535565, 63.70656371,  1.17035111]])"
      ]
     },
     "execution_count": 10,
     "metadata": {},
     "output_type": "execute_result"
    }
   ],
   "source": [
    "A/sum*100"
   ]
  },
  {
   "cell_type": "code",
   "execution_count": 13,
   "id": "313dcd80-ac31-47de-8f0d-c304334f015f",
   "metadata": {},
   "outputs": [],
   "source": [
    "B = np.array([\n",
    "    [4],\n",
    "    [2],\n",
    "    [6],\n",
    "    [1]\n",
    "])"
   ]
  },
  {
   "cell_type": "code",
   "execution_count": 14,
   "id": "74fd215a-cfde-4573-ba00-766a4873c4ea",
   "metadata": {},
   "outputs": [
    {
     "data": {
      "text/plain": [
       "(4, 1)"
      ]
     },
     "execution_count": 14,
     "metadata": {},
     "output_type": "execute_result"
    }
   ],
   "source": [
    "B.shape"
   ]
  },
  {
   "cell_type": "code",
   "execution_count": 17,
   "id": "a635295e-90c4-4c10-91c2-d93238e0736f",
   "metadata": {},
   "outputs": [
    {
     "data": {
      "text/plain": [
       "array([[4],\n",
       "       [2],\n",
       "       [6],\n",
       "       [1]])"
      ]
     },
     "execution_count": 17,
     "metadata": {},
     "output_type": "execute_result"
    }
   ],
   "source": [
    "B"
   ]
  },
  {
   "cell_type": "code",
   "execution_count": 15,
   "id": "234e7414-bd66-443b-82d8-8b759af130bf",
   "metadata": {},
   "outputs": [
    {
     "data": {
      "text/plain": [
       "array([[400],\n",
       "       [200],\n",
       "       [600],\n",
       "       [100]])"
      ]
     },
     "execution_count": 15,
     "metadata": {},
     "output_type": "execute_result"
    }
   ],
   "source": [
    "B*100"
   ]
  },
  {
   "cell_type": "markdown",
   "id": "6623baf3-9a5b-42c5-aa40-e35373038fcd",
   "metadata": {},
   "source": [
    "<img src=\"./images/100.png\" alt=\"Alt text\" width=\"300\"/>"
   ]
  },
  {
   "cell_type": "code",
   "execution_count": 19,
   "id": "1e17f3a2-73f5-4ebc-96e0-e93be8d561f9",
   "metadata": {},
   "outputs": [],
   "source": [
    "C = np.array([[1, 2, 3],\n",
    "              [4, 5, 6]])"
   ]
  },
  {
   "cell_type": "code",
   "execution_count": 20,
   "id": "bd757bf7-a2f0-4742-9df4-bcaaafce7a40",
   "metadata": {},
   "outputs": [
    {
     "data": {
      "text/plain": [
       "(2, 3)"
      ]
     },
     "execution_count": 20,
     "metadata": {},
     "output_type": "execute_result"
    }
   ],
   "source": [
    "C.shape"
   ]
  },
  {
   "cell_type": "code",
   "execution_count": 23,
   "id": "96961cc1-e7ad-44c4-862c-4f1a379a682e",
   "metadata": {},
   "outputs": [],
   "source": [
    "D= np.array([[100, 200, 300]])"
   ]
  },
  {
   "cell_type": "code",
   "execution_count": 24,
   "id": "b5ba4649-fbfc-4f2c-b5b6-8d9e2bc11238",
   "metadata": {},
   "outputs": [
    {
     "data": {
      "text/plain": [
       "(1, 3)"
      ]
     },
     "execution_count": 24,
     "metadata": {},
     "output_type": "execute_result"
    }
   ],
   "source": [
    "D.shape"
   ]
  },
  {
   "cell_type": "code",
   "execution_count": 25,
   "id": "638d14cd-ce17-4b09-97a9-dab78c9a4aee",
   "metadata": {},
   "outputs": [
    {
     "data": {
      "text/plain": [
       "array([[101, 202, 303],\n",
       "       [104, 205, 306]])"
      ]
     },
     "execution_count": 25,
     "metadata": {},
     "output_type": "execute_result"
    }
   ],
   "source": [
    "C+D"
   ]
  },
  {
   "cell_type": "markdown",
   "id": "15d7f26d-d12f-4313-b3f5-12a208c41d15",
   "metadata": {},
   "source": [
    "<img src=\"./images/2.png\" alt=\"Alt text\" width=\"600\"/>"
   ]
  },
  {
   "cell_type": "code",
   "execution_count": null,
   "id": "c7506ad7-6c17-4947-bf1e-796c01772287",
   "metadata": {},
   "outputs": [],
   "source": []
  }
 ],
 "metadata": {
  "kernelspec": {
   "display_name": "Python 3 (ipykernel)",
   "language": "python",
   "name": "python3"
  },
  "language_info": {
   "codemirror_mode": {
    "name": "ipython",
    "version": 3
   },
   "file_extension": ".py",
   "mimetype": "text/x-python",
   "name": "python",
   "nbconvert_exporter": "python",
   "pygments_lexer": "ipython3",
   "version": "3.12.4"
  }
 },
 "nbformat": 4,
 "nbformat_minor": 5
}
