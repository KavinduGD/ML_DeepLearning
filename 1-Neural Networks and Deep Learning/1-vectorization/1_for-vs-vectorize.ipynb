{
 "cells": [
  {
   "cell_type": "code",
   "execution_count": 2,
   "id": "3f2da64b-e264-4e5b-aebe-83b415315d31",
   "metadata": {},
   "outputs": [
    {
     "name": "stdout",
     "output_type": "stream",
     "text": [
      "[1 2 3 4]\n"
     ]
    }
   ],
   "source": [
    "import numpy as np\n",
    "\n",
    "a=np.array([1,2,3,4])\n",
    "print(a)"
   ]
  },
  {
   "cell_type": "code",
   "execution_count": 5,
   "id": "c8a04ec5-7d28-41de-a327-1452db32d623",
   "metadata": {},
   "outputs": [],
   "source": [
    "import time\n",
    "a=np.random.rand(1000000)\n",
    "b=np.random.rand(1000000)"
   ]
  },
  {
   "cell_type": "code",
   "execution_count": 7,
   "id": "d3df9e16-0329-4753-aa50-c2438870afeb",
   "metadata": {},
   "outputs": [
    {
     "data": {
      "text/plain": [
       "(1000000,)"
      ]
     },
     "execution_count": 7,
     "metadata": {},
     "output_type": "execute_result"
    }
   ],
   "source": [
    "a.shape"
   ]
  },
  {
   "cell_type": "code",
   "execution_count": 8,
   "id": "f29d2149-cd64-44ad-aa89-bb6bb8bdbb1f",
   "metadata": {},
   "outputs": [
    {
     "data": {
      "text/plain": [
       "array([0.48593652, 0.18452281, 0.43369753, ..., 0.86155836, 0.85834857,\n",
       "       0.17813198])"
      ]
     },
     "execution_count": 8,
     "metadata": {},
     "output_type": "execute_result"
    }
   ],
   "source": [
    "a"
   ]
  },
  {
   "cell_type": "markdown",
   "id": "a180969d-6af0-49d2-a11f-b436addf9447",
   "metadata": {},
   "source": [
    "### time.time() represents the current time in seconds since the Unix epoch (January 1, 1970, 00:00:00 UTC)"
   ]
  },
  {
   "cell_type": "code",
   "execution_count": 9,
   "id": "3003d578-f45d-4497-b45a-ab469710a53f",
   "metadata": {},
   "outputs": [
    {
     "data": {
      "text/plain": [
       "1721396507.0078537"
      ]
     },
     "execution_count": 9,
     "metadata": {},
     "output_type": "execute_result"
    }
   ],
   "source": [
    "time.time()"
   ]
  },
  {
   "cell_type": "markdown",
   "id": "5f829060-78ca-4adf-8a3d-9aee10f81ad5",
   "metadata": {},
   "source": [
    "import time\n",
    "\n",
    "timestamp = 1721396507.0078537\n",
    "readable_time = time.strftime('%Y-%m-%d %H:%M:%S', time.localtime(timestamp))\n",
    "print(readable_time)"
   ]
  },
  {
   "cell_type": "code",
   "execution_count": 24,
   "id": "486d7244-d946-4f14-b0b3-e98f56df9976",
   "metadata": {},
   "outputs": [],
   "source": [
    "a=np.random.rand(1000000)\n",
    "b=np.random.rand(1000000)"
   ]
  },
  {
   "cell_type": "code",
   "execution_count": 29,
   "id": "98237c9a-b897-4841-806e-dfc03885cdbb",
   "metadata": {},
   "outputs": [
    {
     "name": "stdout",
     "output_type": "stream",
     "text": [
      "250318.81711926535\n",
      "Vectorize version: 1.0030269622802734ms\n"
     ]
    }
   ],
   "source": [
    "import time\n",
    "\n",
    "tic=time.time()\n",
    "c=np.dot(a,b)\n",
    "toc=time.time()\n",
    "\n",
    "print(c)\n",
    "print(\"Vectorize version: \"+str(1000*(toc-tic))+'ms')"
   ]
  },
  {
   "cell_type": "code",
   "execution_count": 30,
   "id": "30f41079-eeb4-4b56-a28b-35db3094a8ce",
   "metadata": {},
   "outputs": [
    {
     "name": "stdout",
     "output_type": "stream",
     "text": [
      "250318.81711927583\n",
      "For loop version: 373.3501434326172ms\n"
     ]
    }
   ],
   "source": [
    "c=0\n",
    "tic=time.time()\n",
    "for i in range(0,1000000):\n",
    "    c += a[i]*b[i]\n",
    "toc=time.time()\n",
    "\n",
    "print(c)\n",
    "print(\"For loop version: \"+str(1000*(toc-tic))+'ms')"
   ]
  },
  {
   "cell_type": "code",
   "execution_count": 31,
   "id": "66a2747d-1d57-4590-b902-f3bd272e59af",
   "metadata": {},
   "outputs": [
    {
     "data": {
      "text/plain": [
       "372.2234371285952"
      ]
     },
     "execution_count": 31,
     "metadata": {},
     "output_type": "execute_result"
    }
   ],
   "source": [
    "373.3501434326172/1.0030269622802734"
   ]
  },
  {
   "cell_type": "markdown",
   "id": "63a9c2cf-c2d0-4534-a52c-4af7494e82ac",
   "metadata": {},
   "source": [
    "## vertorized code run faster"
   ]
  },
  {
   "cell_type": "code",
   "execution_count": null,
   "id": "4a1774b5-1551-4101-bf4e-91d2aed197e6",
   "metadata": {},
   "outputs": [],
   "source": []
  }
 ],
 "metadata": {
  "kernelspec": {
   "display_name": "Python 3 (ipykernel)",
   "language": "python",
   "name": "python3"
  },
  "language_info": {
   "codemirror_mode": {
    "name": "ipython",
    "version": 3
   },
   "file_extension": ".py",
   "mimetype": "text/x-python",
   "name": "python",
   "nbconvert_exporter": "python",
   "pygments_lexer": "ipython3",
   "version": "3.12.4"
  }
 },
 "nbformat": 4,
 "nbformat_minor": 5
}
