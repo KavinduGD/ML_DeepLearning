{
 "cells": [
  {
   "cell_type": "code",
   "execution_count": 1,
   "id": "df099c3e-e49b-4271-8845-025b602dd8a8",
   "metadata": {},
   "outputs": [],
   "source": [
    "import numpy as np"
   ]
  },
  {
   "cell_type": "code",
   "execution_count": 2,
   "id": "6ec9bfd5-439e-4d2e-97f3-0363b2b78f5f",
   "metadata": {},
   "outputs": [],
   "source": [
    "A=np.random.rand(5)"
   ]
  },
  {
   "cell_type": "code",
   "execution_count": 3,
   "id": "d7ebc16f-9a47-4a1f-8401-c28c7486dd9e",
   "metadata": {},
   "outputs": [
    {
     "data": {
      "text/plain": [
       "array([0.74109796, 0.61865968, 0.25123709, 0.81303848, 0.41198591])"
      ]
     },
     "execution_count": 3,
     "metadata": {},
     "output_type": "execute_result"
    }
   ],
   "source": [
    "A"
   ]
  },
  {
   "cell_type": "markdown",
   "id": "7f18b9ff-82a4-429d-a3a9-7aa63a3eb3d9",
   "metadata": {},
   "source": [
    "### This is not a Column or Row vector"
   ]
  },
  {
   "cell_type": "code",
   "execution_count": 4,
   "id": "fc8c877d-d6a9-45b0-9913-d824a9d1cea0",
   "metadata": {},
   "outputs": [
    {
     "data": {
      "text/plain": [
       "(5,)"
      ]
     },
     "execution_count": 4,
     "metadata": {},
     "output_type": "execute_result"
    }
   ],
   "source": [
    "A.shape"
   ]
  },
  {
   "cell_type": "code",
   "execution_count": 5,
   "id": "3a546547-25b3-4477-a560-599488908b45",
   "metadata": {},
   "outputs": [
    {
     "data": {
      "text/plain": [
       "array([0.74109796, 0.61865968, 0.25123709, 0.81303848, 0.41198591])"
      ]
     },
     "execution_count": 5,
     "metadata": {},
     "output_type": "execute_result"
    }
   ],
   "source": [
    "A.T"
   ]
  },
  {
   "cell_type": "markdown",
   "id": "ecc59385-9166-4f4a-82ac-08951bea449b",
   "metadata": {},
   "source": [
    "# ??"
   ]
  },
  {
   "cell_type": "markdown",
   "id": "a905757a-a61a-485d-b78d-19d5d6da0d38",
   "metadata": {},
   "source": [
    "<img src=\"./images/3.png\">"
   ]
  },
  {
   "cell_type": "code",
   "execution_count": 12,
   "id": "5a9b0f33-0779-403e-9255-46bc925a861b",
   "metadata": {},
   "outputs": [],
   "source": [
    "A=np.random.randn(5,1)"
   ]
  },
  {
   "cell_type": "code",
   "execution_count": 13,
   "id": "a3566a93-ae2a-4120-8c8f-e19a06dff51a",
   "metadata": {},
   "outputs": [
    {
     "data": {
      "text/plain": [
       "array([[ 0.63625412],\n",
       "       [-1.08026108],\n",
       "       [ 0.96167808],\n",
       "       [ 0.07937217],\n",
       "       [ 0.36527513]])"
      ]
     },
     "execution_count": 13,
     "metadata": {},
     "output_type": "execute_result"
    }
   ],
   "source": [
    "A"
   ]
  },
  {
   "cell_type": "code",
   "execution_count": 14,
   "id": "8bee3591-9d31-4be6-97f1-978b0a60ce3f",
   "metadata": {},
   "outputs": [
    {
     "data": {
      "text/plain": [
       "array([[ 0.63625412, -1.08026108,  0.96167808,  0.07937217,  0.36527513]])"
      ]
     },
     "execution_count": 14,
     "metadata": {},
     "output_type": "execute_result"
    }
   ],
   "source": [
    "A.T"
   ]
  },
  {
   "cell_type": "code",
   "execution_count": 16,
   "id": "3afee5a8-f2d1-49bd-83a3-ed6b28bc8057",
   "metadata": {},
   "outputs": [
    {
     "data": {
      "text/plain": [
       "(5, 1)"
      ]
     },
     "execution_count": 16,
     "metadata": {},
     "output_type": "execute_result"
    }
   ],
   "source": [
    "A.shape"
   ]
  },
  {
   "cell_type": "code",
   "execution_count": 17,
   "id": "5701fd94-cc21-450d-822f-7b62bf041084",
   "metadata": {},
   "outputs": [
    {
     "data": {
      "text/plain": [
       "(1, 5)"
      ]
     },
     "execution_count": 17,
     "metadata": {},
     "output_type": "execute_result"
    }
   ],
   "source": [
    "A.T.shape"
   ]
  },
  {
   "cell_type": "code",
   "execution_count": 21,
   "id": "11ea72f8-46e6-4be2-85fd-23c09720d58f",
   "metadata": {},
   "outputs": [],
   "source": [
    "B=np.random.rand(5)"
   ]
  },
  {
   "cell_type": "code",
   "execution_count": 22,
   "id": "948aa315-bf97-4a6a-a2e4-2729ba5a1a42",
   "metadata": {},
   "outputs": [
    {
     "data": {
      "text/plain": [
       "array([0.81856152, 0.15354896, 0.39071844, 0.41909211, 0.8518298 ])"
      ]
     },
     "execution_count": 22,
     "metadata": {},
     "output_type": "execute_result"
    }
   ],
   "source": [
    "B"
   ]
  },
  {
   "cell_type": "code",
   "execution_count": 23,
   "id": "461a6dc2-24ad-4484-be9b-814b28372ea8",
   "metadata": {},
   "outputs": [
    {
     "data": {
      "text/plain": [
       "array([[0.81856152, 0.15354896, 0.39071844, 0.41909211, 0.8518298 ]])"
      ]
     },
     "execution_count": 23,
     "metadata": {},
     "output_type": "execute_result"
    }
   ],
   "source": [
    "B.reshape(1,5)"
   ]
  },
  {
   "cell_type": "code",
   "execution_count": 24,
   "id": "a2c26ad7-6aee-4dd0-a62b-cb90d7ef1310",
   "metadata": {},
   "outputs": [
    {
     "data": {
      "text/plain": [
       "array([[0.81856152],\n",
       "       [0.15354896],\n",
       "       [0.39071844],\n",
       "       [0.41909211],\n",
       "       [0.8518298 ]])"
      ]
     },
     "execution_count": 24,
     "metadata": {},
     "output_type": "execute_result"
    }
   ],
   "source": [
    "B.reshape(5,1)"
   ]
  },
  {
   "cell_type": "code",
   "execution_count": 25,
   "id": "984fc61a-ad08-4e10-a397-5d1a9ba196fb",
   "metadata": {},
   "outputs": [],
   "source": [
    "a=np.array([[3,4],[1,2]])"
   ]
  },
  {
   "cell_type": "code",
   "execution_count": 26,
   "id": "998f75d0-f3cc-401a-8e68-b64c15a04604",
   "metadata": {},
   "outputs": [
    {
     "data": {
      "text/plain": [
       "array([[3, 4],\n",
       "       [1, 2]])"
      ]
     },
     "execution_count": 26,
     "metadata": {},
     "output_type": "execute_result"
    }
   ],
   "source": [
    "a"
   ]
  },
  {
   "cell_type": "code",
   "execution_count": 27,
   "id": "14e54350-e586-4b2b-aacc-30cdf4fa1f08",
   "metadata": {},
   "outputs": [
    {
     "data": {
      "text/plain": [
       "array([[13, 20],\n",
       "       [ 5,  8]])"
      ]
     },
     "execution_count": 27,
     "metadata": {},
     "output_type": "execute_result"
    }
   ],
   "source": [
    "np.dot(a,a)"
   ]
  },
  {
   "cell_type": "code",
   "execution_count": null,
   "id": "b49709ee-9ae1-4032-a191-4b637701c5bb",
   "metadata": {},
   "outputs": [],
   "source": []
  }
 ],
 "metadata": {
  "kernelspec": {
   "display_name": "Python 3 (ipykernel)",
   "language": "python",
   "name": "python3"
  },
  "language_info": {
   "codemirror_mode": {
    "name": "ipython",
    "version": 3
   },
   "file_extension": ".py",
   "mimetype": "text/x-python",
   "name": "python",
   "nbconvert_exporter": "python",
   "pygments_lexer": "ipython3",
   "version": "3.12.4"
  }
 },
 "nbformat": 4,
 "nbformat_minor": 5
}
